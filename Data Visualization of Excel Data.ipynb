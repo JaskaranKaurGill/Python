{
 "cells": [
  {
   "cell_type": "code",
   "execution_count": 1,
   "metadata": {},
   "outputs": [],
   "source": [
    "import pandas as pd"
   ]
  },
  {
   "cell_type": "code",
   "execution_count": 2,
   "metadata": {},
   "outputs": [],
   "source": [
    "import matplotlib.pyplot as pl"
   ]
  },
  {
   "cell_type": "code",
   "execution_count": 3,
   "metadata": {},
   "outputs": [],
   "source": [
    "file_name = \"Financial Sample.xlsx\""
   ]
  },
  {
   "cell_type": "code",
   "execution_count": 4,
   "metadata": {},
   "outputs": [],
   "source": [
    "df = pd.read_excel(file_name)"
   ]
  },
  {
   "cell_type": "code",
   "execution_count": 18,
   "metadata": {},
   "outputs": [
    {
     "data": {
      "text/html": [
       "<div>\n",
       "<style scoped>\n",
       "    .dataframe tbody tr th:only-of-type {\n",
       "        vertical-align: middle;\n",
       "    }\n",
       "\n",
       "    .dataframe tbody tr th {\n",
       "        vertical-align: top;\n",
       "    }\n",
       "\n",
       "    .dataframe thead th {\n",
       "        text-align: right;\n",
       "    }\n",
       "</style>\n",
       "<table border=\"1\" class=\"dataframe\">\n",
       "  <thead>\n",
       "    <tr style=\"text-align: right;\">\n",
       "      <th></th>\n",
       "      <th>Segment</th>\n",
       "      <th>Country</th>\n",
       "      <th>Product</th>\n",
       "      <th>Discount Band</th>\n",
       "      <th>Units Sold</th>\n",
       "      <th>Manufacturing Price</th>\n",
       "      <th>Sale Price</th>\n",
       "      <th>Gross Sales</th>\n",
       "      <th>Discounts</th>\n",
       "      <th>Sales</th>\n",
       "      <th>COGS</th>\n",
       "      <th>Profit</th>\n",
       "      <th>Date</th>\n",
       "      <th>Month Number</th>\n",
       "      <th>Month Name</th>\n",
       "      <th>Year</th>\n",
       "    </tr>\n",
       "  </thead>\n",
       "  <tbody>\n",
       "    <tr>\n",
       "      <th>695</th>\n",
       "      <td>Small Business</td>\n",
       "      <td>France</td>\n",
       "      <td>Amarilla</td>\n",
       "      <td>High</td>\n",
       "      <td>2475.0</td>\n",
       "      <td>260</td>\n",
       "      <td>300</td>\n",
       "      <td>742500.0</td>\n",
       "      <td>111375.00</td>\n",
       "      <td>631125.00</td>\n",
       "      <td>618750.0</td>\n",
       "      <td>12375.00</td>\n",
       "      <td>2014-03-01</td>\n",
       "      <td>3</td>\n",
       "      <td>March</td>\n",
       "      <td>2014</td>\n",
       "    </tr>\n",
       "    <tr>\n",
       "      <th>696</th>\n",
       "      <td>Small Business</td>\n",
       "      <td>Mexico</td>\n",
       "      <td>Amarilla</td>\n",
       "      <td>High</td>\n",
       "      <td>546.0</td>\n",
       "      <td>260</td>\n",
       "      <td>300</td>\n",
       "      <td>163800.0</td>\n",
       "      <td>24570.00</td>\n",
       "      <td>139230.00</td>\n",
       "      <td>136500.0</td>\n",
       "      <td>2730.00</td>\n",
       "      <td>2014-10-01</td>\n",
       "      <td>10</td>\n",
       "      <td>October</td>\n",
       "      <td>2014</td>\n",
       "    </tr>\n",
       "    <tr>\n",
       "      <th>697</th>\n",
       "      <td>Government</td>\n",
       "      <td>Mexico</td>\n",
       "      <td>Montana</td>\n",
       "      <td>High</td>\n",
       "      <td>1368.0</td>\n",
       "      <td>5</td>\n",
       "      <td>7</td>\n",
       "      <td>9576.0</td>\n",
       "      <td>1436.40</td>\n",
       "      <td>8139.60</td>\n",
       "      <td>6840.0</td>\n",
       "      <td>1299.60</td>\n",
       "      <td>2014-02-01</td>\n",
       "      <td>2</td>\n",
       "      <td>February</td>\n",
       "      <td>2014</td>\n",
       "    </tr>\n",
       "    <tr>\n",
       "      <th>698</th>\n",
       "      <td>Government</td>\n",
       "      <td>Canada</td>\n",
       "      <td>Paseo</td>\n",
       "      <td>High</td>\n",
       "      <td>723.0</td>\n",
       "      <td>10</td>\n",
       "      <td>7</td>\n",
       "      <td>5061.0</td>\n",
       "      <td>759.15</td>\n",
       "      <td>4301.85</td>\n",
       "      <td>3615.0</td>\n",
       "      <td>686.85</td>\n",
       "      <td>2014-04-01</td>\n",
       "      <td>4</td>\n",
       "      <td>April</td>\n",
       "      <td>2014</td>\n",
       "    </tr>\n",
       "    <tr>\n",
       "      <th>699</th>\n",
       "      <td>Channel Partners</td>\n",
       "      <td>United States of America</td>\n",
       "      <td>VTT</td>\n",
       "      <td>High</td>\n",
       "      <td>1806.0</td>\n",
       "      <td>250</td>\n",
       "      <td>12</td>\n",
       "      <td>21672.0</td>\n",
       "      <td>3250.80</td>\n",
       "      <td>18421.20</td>\n",
       "      <td>5418.0</td>\n",
       "      <td>13003.20</td>\n",
       "      <td>2014-05-01</td>\n",
       "      <td>5</td>\n",
       "      <td>May</td>\n",
       "      <td>2014</td>\n",
       "    </tr>\n",
       "  </tbody>\n",
       "</table>\n",
       "</div>"
      ],
      "text/plain": [
       "              Segment                   Country   Product Discount Band  \\\n",
       "695    Small Business                    France  Amarilla          High   \n",
       "696    Small Business                    Mexico  Amarilla          High   \n",
       "697        Government                    Mexico   Montana          High   \n",
       "698        Government                    Canada     Paseo          High   \n",
       "699  Channel Partners  United States of America       VTT          High   \n",
       "\n",
       "     Units Sold  Manufacturing Price  Sale Price  Gross Sales  Discounts  \\\n",
       "695      2475.0                  260         300     742500.0  111375.00   \n",
       "696       546.0                  260         300     163800.0   24570.00   \n",
       "697      1368.0                    5           7       9576.0    1436.40   \n",
       "698       723.0                   10           7       5061.0     759.15   \n",
       "699      1806.0                  250          12      21672.0    3250.80   \n",
       "\n",
       "         Sales      COGS    Profit       Date  Month Number Month Name  Year  \n",
       "695  631125.00  618750.0  12375.00 2014-03-01             3      March  2014  \n",
       "696  139230.00  136500.0   2730.00 2014-10-01            10    October  2014  \n",
       "697    8139.60    6840.0   1299.60 2014-02-01             2   February  2014  \n",
       "698    4301.85    3615.0    686.85 2014-04-01             4      April  2014  \n",
       "699   18421.20    5418.0  13003.20 2014-05-01             5        May  2014  "
      ]
     },
     "execution_count": 18,
     "metadata": {},
     "output_type": "execute_result"
    }
   ],
   "source": [
    "df.tail()"
   ]
  },
  {
   "cell_type": "code",
   "execution_count": 6,
   "metadata": {},
   "outputs": [
    {
     "data": {
      "text/plain": [
       "Index(['Segment', 'Country', 'Product', 'Discount Band', 'Units Sold',\n",
       "       'Manufacturing Price', 'Sale Price', 'Gross Sales', 'Discounts',\n",
       "       ' Sales', 'COGS', 'Profit', 'Date', 'Month Number', 'Month Name',\n",
       "       'Year'],\n",
       "      dtype='object')"
      ]
     },
     "execution_count": 6,
     "metadata": {},
     "output_type": "execute_result"
    }
   ],
   "source": [
    "#time series plot\n",
    "\n",
    "df.columns"
   ]
  },
  {
   "cell_type": "code",
   "execution_count": 23,
   "metadata": {},
   "outputs": [],
   "source": [
    "new_df=df[((df['Country']=='Canada') & (df['Segment']=='Government') & (df['Product']=='VTT'))]"
   ]
  },
  {
   "cell_type": "code",
   "execution_count": 25,
   "metadata": {},
   "outputs": [
    {
     "name": "stdout",
     "output_type": "stream",
     "text": [
      "<class 'pandas.core.frame.DataFrame'>\n",
      "Int64Index: 8 entries, 44 to 688\n",
      "Data columns (total 16 columns):\n",
      " #   Column               Non-Null Count  Dtype         \n",
      "---  ------               --------------  -----         \n",
      " 0   Segment              8 non-null      object        \n",
      " 1   Country              8 non-null      object        \n",
      " 2   Product              8 non-null      object        \n",
      " 3   Discount Band        8 non-null      object        \n",
      " 4   Units Sold           8 non-null      float64       \n",
      " 5   Manufacturing Price  8 non-null      int64         \n",
      " 6   Sale Price           8 non-null      int64         \n",
      " 7   Gross Sales          8 non-null      float64       \n",
      " 8   Discounts            8 non-null      float64       \n",
      " 9    Sales               8 non-null      float64       \n",
      " 10  COGS                 8 non-null      float64       \n",
      " 11  Profit               8 non-null      float64       \n",
      " 12  Date                 8 non-null      datetime64[ns]\n",
      " 13  Month Number         8 non-null      int64         \n",
      " 14  Month Name           8 non-null      object        \n",
      " 15  Year                 8 non-null      int64         \n",
      "dtypes: datetime64[ns](1), float64(6), int64(4), object(5)\n",
      "memory usage: 1.1+ KB\n"
     ]
    }
   ],
   "source": [
    "new_df.info()"
   ]
  },
  {
   "cell_type": "code",
   "execution_count": 28,
   "metadata": {},
   "outputs": [
    {
     "data": {
      "text/html": [
       "<div>\n",
       "<style scoped>\n",
       "    .dataframe tbody tr th:only-of-type {\n",
       "        vertical-align: middle;\n",
       "    }\n",
       "\n",
       "    .dataframe tbody tr th {\n",
       "        vertical-align: top;\n",
       "    }\n",
       "\n",
       "    .dataframe thead th {\n",
       "        text-align: right;\n",
       "    }\n",
       "</style>\n",
       "<table border=\"1\" class=\"dataframe\">\n",
       "  <thead>\n",
       "    <tr style=\"text-align: right;\">\n",
       "      <th></th>\n",
       "      <th>Segment</th>\n",
       "      <th>Country</th>\n",
       "      <th>Product</th>\n",
       "      <th>Discount Band</th>\n",
       "      <th>Units Sold</th>\n",
       "      <th>Manufacturing Price</th>\n",
       "      <th>Sale Price</th>\n",
       "      <th>Gross Sales</th>\n",
       "      <th>Discounts</th>\n",
       "      <th>Sales</th>\n",
       "      <th>COGS</th>\n",
       "      <th>Profit</th>\n",
       "      <th>Date</th>\n",
       "      <th>Month Number</th>\n",
       "      <th>Month Name</th>\n",
       "      <th>Year</th>\n",
       "    </tr>\n",
       "  </thead>\n",
       "  <tbody>\n",
       "    <tr>\n",
       "      <th>44</th>\n",
       "      <td>Government</td>\n",
       "      <td>Canada</td>\n",
       "      <td>VTT</td>\n",
       "      <td>None</td>\n",
       "      <td>1817.0</td>\n",
       "      <td>250</td>\n",
       "      <td>20</td>\n",
       "      <td>36340.0</td>\n",
       "      <td>0.00</td>\n",
       "      <td>36340.00</td>\n",
       "      <td>18170.0</td>\n",
       "      <td>18170.00</td>\n",
       "      <td>2014-12-01</td>\n",
       "      <td>12</td>\n",
       "      <td>December</td>\n",
       "      <td>2014</td>\n",
       "    </tr>\n",
       "    <tr>\n",
       "      <th>57</th>\n",
       "      <td>Government</td>\n",
       "      <td>Canada</td>\n",
       "      <td>VTT</td>\n",
       "      <td>Low</td>\n",
       "      <td>1326.0</td>\n",
       "      <td>250</td>\n",
       "      <td>7</td>\n",
       "      <td>9282.0</td>\n",
       "      <td>92.82</td>\n",
       "      <td>9189.18</td>\n",
       "      <td>6630.0</td>\n",
       "      <td>2559.18</td>\n",
       "      <td>2014-03-01</td>\n",
       "      <td>3</td>\n",
       "      <td>March</td>\n",
       "      <td>2014</td>\n",
       "    </tr>\n",
       "    <tr>\n",
       "      <th>89</th>\n",
       "      <td>Government</td>\n",
       "      <td>Canada</td>\n",
       "      <td>VTT</td>\n",
       "      <td>Low</td>\n",
       "      <td>943.5</td>\n",
       "      <td>250</td>\n",
       "      <td>350</td>\n",
       "      <td>330225.0</td>\n",
       "      <td>3302.25</td>\n",
       "      <td>326922.75</td>\n",
       "      <td>245310.0</td>\n",
       "      <td>81612.75</td>\n",
       "      <td>2014-04-01</td>\n",
       "      <td>4</td>\n",
       "      <td>April</td>\n",
       "      <td>2014</td>\n",
       "    </tr>\n",
       "    <tr>\n",
       "      <th>262</th>\n",
       "      <td>Government</td>\n",
       "      <td>Canada</td>\n",
       "      <td>VTT</td>\n",
       "      <td>Medium</td>\n",
       "      <td>1389.0</td>\n",
       "      <td>250</td>\n",
       "      <td>20</td>\n",
       "      <td>27780.0</td>\n",
       "      <td>1389.00</td>\n",
       "      <td>26391.00</td>\n",
       "      <td>13890.0</td>\n",
       "      <td>12501.00</td>\n",
       "      <td>2013-10-01</td>\n",
       "      <td>10</td>\n",
       "      <td>October</td>\n",
       "      <td>2013</td>\n",
       "    </tr>\n",
       "    <tr>\n",
       "      <th>324</th>\n",
       "      <td>Government</td>\n",
       "      <td>Canada</td>\n",
       "      <td>VTT</td>\n",
       "      <td>Medium</td>\n",
       "      <td>1582.0</td>\n",
       "      <td>250</td>\n",
       "      <td>7</td>\n",
       "      <td>11074.0</td>\n",
       "      <td>775.18</td>\n",
       "      <td>10298.82</td>\n",
       "      <td>7910.0</td>\n",
       "      <td>2388.82</td>\n",
       "      <td>2014-12-01</td>\n",
       "      <td>12</td>\n",
       "      <td>December</td>\n",
       "      <td>2014</td>\n",
       "    </tr>\n",
       "    <tr>\n",
       "      <th>528</th>\n",
       "      <td>Government</td>\n",
       "      <td>Canada</td>\n",
       "      <td>VTT</td>\n",
       "      <td>High</td>\n",
       "      <td>2935.0</td>\n",
       "      <td>250</td>\n",
       "      <td>20</td>\n",
       "      <td>58700.0</td>\n",
       "      <td>6457.00</td>\n",
       "      <td>52243.00</td>\n",
       "      <td>29350.0</td>\n",
       "      <td>22893.00</td>\n",
       "      <td>2013-11-01</td>\n",
       "      <td>11</td>\n",
       "      <td>November</td>\n",
       "      <td>2013</td>\n",
       "    </tr>\n",
       "    <tr>\n",
       "      <th>562</th>\n",
       "      <td>Government</td>\n",
       "      <td>Canada</td>\n",
       "      <td>VTT</td>\n",
       "      <td>High</td>\n",
       "      <td>623.0</td>\n",
       "      <td>250</td>\n",
       "      <td>350</td>\n",
       "      <td>218050.0</td>\n",
       "      <td>26166.00</td>\n",
       "      <td>191884.00</td>\n",
       "      <td>161980.0</td>\n",
       "      <td>29904.00</td>\n",
       "      <td>2013-09-01</td>\n",
       "      <td>9</td>\n",
       "      <td>September</td>\n",
       "      <td>2013</td>\n",
       "    </tr>\n",
       "    <tr>\n",
       "      <th>688</th>\n",
       "      <td>Government</td>\n",
       "      <td>Canada</td>\n",
       "      <td>VTT</td>\n",
       "      <td>High</td>\n",
       "      <td>865.5</td>\n",
       "      <td>250</td>\n",
       "      <td>20</td>\n",
       "      <td>17310.0</td>\n",
       "      <td>2596.50</td>\n",
       "      <td>14713.50</td>\n",
       "      <td>8655.0</td>\n",
       "      <td>6058.50</td>\n",
       "      <td>2014-07-01</td>\n",
       "      <td>7</td>\n",
       "      <td>July</td>\n",
       "      <td>2014</td>\n",
       "    </tr>\n",
       "  </tbody>\n",
       "</table>\n",
       "</div>"
      ],
      "text/plain": [
       "        Segment Country Product Discount Band  Units Sold  \\\n",
       "44   Government  Canada     VTT          None      1817.0   \n",
       "57   Government  Canada     VTT           Low      1326.0   \n",
       "89   Government  Canada     VTT           Low       943.5   \n",
       "262  Government  Canada     VTT        Medium      1389.0   \n",
       "324  Government  Canada     VTT        Medium      1582.0   \n",
       "528  Government  Canada     VTT          High      2935.0   \n",
       "562  Government  Canada     VTT          High       623.0   \n",
       "688  Government  Canada     VTT          High       865.5   \n",
       "\n",
       "     Manufacturing Price  Sale Price  Gross Sales  Discounts      Sales  \\\n",
       "44                   250          20      36340.0       0.00   36340.00   \n",
       "57                   250           7       9282.0      92.82    9189.18   \n",
       "89                   250         350     330225.0    3302.25  326922.75   \n",
       "262                  250          20      27780.0    1389.00   26391.00   \n",
       "324                  250           7      11074.0     775.18   10298.82   \n",
       "528                  250          20      58700.0    6457.00   52243.00   \n",
       "562                  250         350     218050.0   26166.00  191884.00   \n",
       "688                  250          20      17310.0    2596.50   14713.50   \n",
       "\n",
       "         COGS    Profit       Date  Month Number Month Name  Year  \n",
       "44    18170.0  18170.00 2014-12-01            12   December  2014  \n",
       "57     6630.0   2559.18 2014-03-01             3      March  2014  \n",
       "89   245310.0  81612.75 2014-04-01             4      April  2014  \n",
       "262   13890.0  12501.00 2013-10-01            10    October  2013  \n",
       "324    7910.0   2388.82 2014-12-01            12   December  2014  \n",
       "528   29350.0  22893.00 2013-11-01            11   November  2013  \n",
       "562  161980.0  29904.00 2013-09-01             9  September  2013  \n",
       "688    8655.0   6058.50 2014-07-01             7       July  2014  "
      ]
     },
     "execution_count": 28,
     "metadata": {},
     "output_type": "execute_result"
    }
   ],
   "source": [
    "new_df"
   ]
  },
  {
   "cell_type": "code",
   "execution_count": 30,
   "metadata": {},
   "outputs": [],
   "source": [
    "new_df = new_df.sort_values(by=['Date'])"
   ]
  },
  {
   "cell_type": "code",
   "execution_count": 32,
   "metadata": {},
   "outputs": [
    {
     "data": {
      "text/html": [
       "<div>\n",
       "<style scoped>\n",
       "    .dataframe tbody tr th:only-of-type {\n",
       "        vertical-align: middle;\n",
       "    }\n",
       "\n",
       "    .dataframe tbody tr th {\n",
       "        vertical-align: top;\n",
       "    }\n",
       "\n",
       "    .dataframe thead th {\n",
       "        text-align: right;\n",
       "    }\n",
       "</style>\n",
       "<table border=\"1\" class=\"dataframe\">\n",
       "  <thead>\n",
       "    <tr style=\"text-align: right;\">\n",
       "      <th></th>\n",
       "      <th>Segment</th>\n",
       "      <th>Country</th>\n",
       "      <th>Product</th>\n",
       "      <th>Discount Band</th>\n",
       "      <th>Units Sold</th>\n",
       "      <th>Manufacturing Price</th>\n",
       "      <th>Sale Price</th>\n",
       "      <th>Gross Sales</th>\n",
       "      <th>Discounts</th>\n",
       "      <th>Sales</th>\n",
       "      <th>COGS</th>\n",
       "      <th>Profit</th>\n",
       "      <th>Date</th>\n",
       "      <th>Month Number</th>\n",
       "      <th>Month Name</th>\n",
       "      <th>Year</th>\n",
       "    </tr>\n",
       "  </thead>\n",
       "  <tbody>\n",
       "    <tr>\n",
       "      <th>562</th>\n",
       "      <td>Government</td>\n",
       "      <td>Canada</td>\n",
       "      <td>VTT</td>\n",
       "      <td>High</td>\n",
       "      <td>623.0</td>\n",
       "      <td>250</td>\n",
       "      <td>350</td>\n",
       "      <td>218050.0</td>\n",
       "      <td>26166.00</td>\n",
       "      <td>191884.00</td>\n",
       "      <td>161980.0</td>\n",
       "      <td>29904.00</td>\n",
       "      <td>2013-09-01</td>\n",
       "      <td>9</td>\n",
       "      <td>September</td>\n",
       "      <td>2013</td>\n",
       "    </tr>\n",
       "    <tr>\n",
       "      <th>262</th>\n",
       "      <td>Government</td>\n",
       "      <td>Canada</td>\n",
       "      <td>VTT</td>\n",
       "      <td>Medium</td>\n",
       "      <td>1389.0</td>\n",
       "      <td>250</td>\n",
       "      <td>20</td>\n",
       "      <td>27780.0</td>\n",
       "      <td>1389.00</td>\n",
       "      <td>26391.00</td>\n",
       "      <td>13890.0</td>\n",
       "      <td>12501.00</td>\n",
       "      <td>2013-10-01</td>\n",
       "      <td>10</td>\n",
       "      <td>October</td>\n",
       "      <td>2013</td>\n",
       "    </tr>\n",
       "    <tr>\n",
       "      <th>528</th>\n",
       "      <td>Government</td>\n",
       "      <td>Canada</td>\n",
       "      <td>VTT</td>\n",
       "      <td>High</td>\n",
       "      <td>2935.0</td>\n",
       "      <td>250</td>\n",
       "      <td>20</td>\n",
       "      <td>58700.0</td>\n",
       "      <td>6457.00</td>\n",
       "      <td>52243.00</td>\n",
       "      <td>29350.0</td>\n",
       "      <td>22893.00</td>\n",
       "      <td>2013-11-01</td>\n",
       "      <td>11</td>\n",
       "      <td>November</td>\n",
       "      <td>2013</td>\n",
       "    </tr>\n",
       "    <tr>\n",
       "      <th>57</th>\n",
       "      <td>Government</td>\n",
       "      <td>Canada</td>\n",
       "      <td>VTT</td>\n",
       "      <td>Low</td>\n",
       "      <td>1326.0</td>\n",
       "      <td>250</td>\n",
       "      <td>7</td>\n",
       "      <td>9282.0</td>\n",
       "      <td>92.82</td>\n",
       "      <td>9189.18</td>\n",
       "      <td>6630.0</td>\n",
       "      <td>2559.18</td>\n",
       "      <td>2014-03-01</td>\n",
       "      <td>3</td>\n",
       "      <td>March</td>\n",
       "      <td>2014</td>\n",
       "    </tr>\n",
       "    <tr>\n",
       "      <th>89</th>\n",
       "      <td>Government</td>\n",
       "      <td>Canada</td>\n",
       "      <td>VTT</td>\n",
       "      <td>Low</td>\n",
       "      <td>943.5</td>\n",
       "      <td>250</td>\n",
       "      <td>350</td>\n",
       "      <td>330225.0</td>\n",
       "      <td>3302.25</td>\n",
       "      <td>326922.75</td>\n",
       "      <td>245310.0</td>\n",
       "      <td>81612.75</td>\n",
       "      <td>2014-04-01</td>\n",
       "      <td>4</td>\n",
       "      <td>April</td>\n",
       "      <td>2014</td>\n",
       "    </tr>\n",
       "    <tr>\n",
       "      <th>688</th>\n",
       "      <td>Government</td>\n",
       "      <td>Canada</td>\n",
       "      <td>VTT</td>\n",
       "      <td>High</td>\n",
       "      <td>865.5</td>\n",
       "      <td>250</td>\n",
       "      <td>20</td>\n",
       "      <td>17310.0</td>\n",
       "      <td>2596.50</td>\n",
       "      <td>14713.50</td>\n",
       "      <td>8655.0</td>\n",
       "      <td>6058.50</td>\n",
       "      <td>2014-07-01</td>\n",
       "      <td>7</td>\n",
       "      <td>July</td>\n",
       "      <td>2014</td>\n",
       "    </tr>\n",
       "    <tr>\n",
       "      <th>44</th>\n",
       "      <td>Government</td>\n",
       "      <td>Canada</td>\n",
       "      <td>VTT</td>\n",
       "      <td>None</td>\n",
       "      <td>1817.0</td>\n",
       "      <td>250</td>\n",
       "      <td>20</td>\n",
       "      <td>36340.0</td>\n",
       "      <td>0.00</td>\n",
       "      <td>36340.00</td>\n",
       "      <td>18170.0</td>\n",
       "      <td>18170.00</td>\n",
       "      <td>2014-12-01</td>\n",
       "      <td>12</td>\n",
       "      <td>December</td>\n",
       "      <td>2014</td>\n",
       "    </tr>\n",
       "    <tr>\n",
       "      <th>324</th>\n",
       "      <td>Government</td>\n",
       "      <td>Canada</td>\n",
       "      <td>VTT</td>\n",
       "      <td>Medium</td>\n",
       "      <td>1582.0</td>\n",
       "      <td>250</td>\n",
       "      <td>7</td>\n",
       "      <td>11074.0</td>\n",
       "      <td>775.18</td>\n",
       "      <td>10298.82</td>\n",
       "      <td>7910.0</td>\n",
       "      <td>2388.82</td>\n",
       "      <td>2014-12-01</td>\n",
       "      <td>12</td>\n",
       "      <td>December</td>\n",
       "      <td>2014</td>\n",
       "    </tr>\n",
       "  </tbody>\n",
       "</table>\n",
       "</div>"
      ],
      "text/plain": [
       "        Segment Country Product Discount Band  Units Sold  \\\n",
       "562  Government  Canada     VTT          High       623.0   \n",
       "262  Government  Canada     VTT        Medium      1389.0   \n",
       "528  Government  Canada     VTT          High      2935.0   \n",
       "57   Government  Canada     VTT           Low      1326.0   \n",
       "89   Government  Canada     VTT           Low       943.5   \n",
       "688  Government  Canada     VTT          High       865.5   \n",
       "44   Government  Canada     VTT          None      1817.0   \n",
       "324  Government  Canada     VTT        Medium      1582.0   \n",
       "\n",
       "     Manufacturing Price  Sale Price  Gross Sales  Discounts      Sales  \\\n",
       "562                  250         350     218050.0   26166.00  191884.00   \n",
       "262                  250          20      27780.0    1389.00   26391.00   \n",
       "528                  250          20      58700.0    6457.00   52243.00   \n",
       "57                   250           7       9282.0      92.82    9189.18   \n",
       "89                   250         350     330225.0    3302.25  326922.75   \n",
       "688                  250          20      17310.0    2596.50   14713.50   \n",
       "44                   250          20      36340.0       0.00   36340.00   \n",
       "324                  250           7      11074.0     775.18   10298.82   \n",
       "\n",
       "         COGS    Profit       Date  Month Number Month Name  Year  \n",
       "562  161980.0  29904.00 2013-09-01             9  September  2013  \n",
       "262   13890.0  12501.00 2013-10-01            10    October  2013  \n",
       "528   29350.0  22893.00 2013-11-01            11   November  2013  \n",
       "57     6630.0   2559.18 2014-03-01             3      March  2014  \n",
       "89   245310.0  81612.75 2014-04-01             4      April  2014  \n",
       "688    8655.0   6058.50 2014-07-01             7       July  2014  \n",
       "44    18170.0  18170.00 2014-12-01            12   December  2014  \n",
       "324    7910.0   2388.82 2014-12-01            12   December  2014  "
      ]
     },
     "execution_count": 32,
     "metadata": {},
     "output_type": "execute_result"
    }
   ],
   "source": [
    "new_df"
   ]
  },
  {
   "cell_type": "code",
   "execution_count": 34,
   "metadata": {},
   "outputs": [
    {
     "data": {
      "text/plain": [
       "<matplotlib.axes._subplots.AxesSubplot at 0x11638adf0>"
      ]
     },
     "execution_count": 34,
     "metadata": {},
     "output_type": "execute_result"
    },
    {
     "data": {
      "image/png": "[encoded data removed]",
      "text/plain": [
       "<Figure size 432x288 with 1 Axes>"
      ]
     },
     "metadata": {
      "needs_background": "light"
     },
     "output_type": "display_data"
    }
   ],
   "source": [
    "new_df.plot(x=\"Date\", y=\"Gross Sales\")"
   ]
  },
  {
   "cell_type": "code",
   "execution_count": 35,
   "metadata": {},
   "outputs": [
    {
     "data": {
      "text/plain": [
       "<matplotlib.axes._subplots.AxesSubplot at 0x1164827f0>"
      ]
     },
     "execution_count": 35,
     "metadata": {},
     "output_type": "execute_result"
    },
    {
     "data": {
      "image/png": "[encoded data removed]",
      "text/plain": [
       "<Figure size 432x288 with 1 Axes>"
      ]
     },
     "metadata": {
      "needs_background": "light"
     },
     "output_type": "display_data"
    }
   ],
   "source": [
    "new_df.plot(x=\"Date\")"
   ]
  },
  {
   "cell_type": "code",
   "execution_count": 36,
   "metadata": {},
   "outputs": [],
   "source": [
    "total_products = df.groupby(['Product']).sum()"
   ]
  },
  {
   "cell_type": "code",
   "execution_count": 40,
   "metadata": {},
   "outputs": [
    {
     "data": {
      "text/html": [
       "<div>\n",
       "<style scoped>\n",
       "    .dataframe tbody tr th:only-of-type {\n",
       "        vertical-align: middle;\n",
       "    }\n",
       "\n",
       "    .dataframe tbody tr th {\n",
       "        vertical-align: top;\n",
       "    }\n",
       "\n",
       "    .dataframe thead th {\n",
       "        text-align: right;\n",
       "    }\n",
       "</style>\n",
       "<table border=\"1\" class=\"dataframe\">\n",
       "  <thead>\n",
       "    <tr style=\"text-align: right;\">\n",
       "      <th></th>\n",
       "      <th>Units Sold</th>\n",
       "      <th>Manufacturing Price</th>\n",
       "      <th>Sale Price</th>\n",
       "      <th>Gross Sales</th>\n",
       "      <th>Discounts</th>\n",
       "      <th>Sales</th>\n",
       "      <th>COGS</th>\n",
       "      <th>Profit</th>\n",
       "      <th>Month Number</th>\n",
       "      <th>Year</th>\n",
       "    </tr>\n",
       "    <tr>\n",
       "      <th>Product</th>\n",
       "      <th></th>\n",
       "      <th></th>\n",
       "      <th></th>\n",
       "      <th></th>\n",
       "      <th></th>\n",
       "      <th></th>\n",
       "      <th></th>\n",
       "      <th></th>\n",
       "      <th></th>\n",
       "      <th></th>\n",
       "    </tr>\n",
       "  </thead>\n",
       "  <tbody>\n",
       "    <tr>\n",
       "      <th>Amarilla</th>\n",
       "      <td>155315.0</td>\n",
       "      <td>24440</td>\n",
       "      <td>12096</td>\n",
       "      <td>19037279.5</td>\n",
       "      <td>1290163.440</td>\n",
       "      <td>1.774712e+07</td>\n",
       "      <td>14933012.0</td>\n",
       "      <td>2814104.060</td>\n",
       "      <td>738</td>\n",
       "      <td>189293</td>\n",
       "    </tr>\n",
       "    <tr>\n",
       "      <th>Carretera</th>\n",
       "      <td>146846.0</td>\n",
       "      <td>279</td>\n",
       "      <td>10395</td>\n",
       "      <td>14937520.5</td>\n",
       "      <td>1122212.615</td>\n",
       "      <td>1.381531e+07</td>\n",
       "      <td>11988503.0</td>\n",
       "      <td>1826804.885</td>\n",
       "      <td>737</td>\n",
       "      <td>187279</td>\n",
       "    </tr>\n",
       "    <tr>\n",
       "      <th>Montana</th>\n",
       "      <td>154198.0</td>\n",
       "      <td>465</td>\n",
       "      <td>10890</td>\n",
       "      <td>16549834.5</td>\n",
       "      <td>1159032.620</td>\n",
       "      <td>1.539080e+07</td>\n",
       "      <td>13276047.0</td>\n",
       "      <td>2114754.880</td>\n",
       "      <td>721</td>\n",
       "      <td>187279</td>\n",
       "    </tr>\n",
       "    <tr>\n",
       "      <th>Paseo</th>\n",
       "      <td>338239.5</td>\n",
       "      <td>2020</td>\n",
       "      <td>21852</td>\n",
       "      <td>35611662.0</td>\n",
       "      <td>2600518.050</td>\n",
       "      <td>3.301114e+07</td>\n",
       "      <td>28213706.0</td>\n",
       "      <td>4797437.950</td>\n",
       "      <td>1603</td>\n",
       "      <td>406777</td>\n",
       "    </tr>\n",
       "    <tr>\n",
       "      <th>VTT</th>\n",
       "      <td>168783.0</td>\n",
       "      <td>27250</td>\n",
       "      <td>15106</td>\n",
       "      <td>21968533.5</td>\n",
       "      <td>1456612.480</td>\n",
       "      <td>2.051192e+07</td>\n",
       "      <td>17477313.0</td>\n",
       "      <td>3034608.020</td>\n",
       "      <td>872</td>\n",
       "      <td>219498</td>\n",
       "    </tr>\n",
       "    <tr>\n",
       "      <th>Velo</th>\n",
       "      <td>162424.5</td>\n",
       "      <td>13080</td>\n",
       "      <td>12561</td>\n",
       "      <td>19826768.5</td>\n",
       "      <td>1576709.035</td>\n",
       "      <td>1.825006e+07</td>\n",
       "      <td>15944067.0</td>\n",
       "      <td>2305992.465</td>\n",
       "      <td>859</td>\n",
       "      <td>219499</td>\n",
       "    </tr>\n",
       "  </tbody>\n",
       "</table>\n",
       "</div>"
      ],
      "text/plain": [
       "           Units Sold  Manufacturing Price  Sale Price  Gross Sales  \\\n",
       "Product                                                               \n",
       "Amarilla     155315.0                24440       12096   19037279.5   \n",
       "Carretera    146846.0                  279       10395   14937520.5   \n",
       "Montana      154198.0                  465       10890   16549834.5   \n",
       "Paseo        338239.5                 2020       21852   35611662.0   \n",
       "VTT          168783.0                27250       15106   21968533.5   \n",
       "Velo         162424.5                13080       12561   19826768.5   \n",
       "\n",
       "             Discounts         Sales        COGS       Profit  Month Number  \\\n",
       "Product                                                                       \n",
       "Amarilla   1290163.440  1.774712e+07  14933012.0  2814104.060           738   \n",
       "Carretera  1122212.615  1.381531e+07  11988503.0  1826804.885           737   \n",
       "Montana    1159032.620  1.539080e+07  13276047.0  2114754.880           721   \n",
       "Paseo      2600518.050  3.301114e+07  28213706.0  4797437.950          1603   \n",
       "VTT        1456612.480  2.051192e+07  17477313.0  3034608.020           872   \n",
       "Velo       1576709.035  1.825006e+07  15944067.0  2305992.465           859   \n",
       "\n",
       "             Year  \n",
       "Product            \n",
       "Amarilla   189293  \n",
       "Carretera  187279  \n",
       "Montana    187279  \n",
       "Paseo      406777  \n",
       "VTT        219498  \n",
       "Velo       219499  "
      ]
     },
     "execution_count": 40,
     "metadata": {},
     "output_type": "execute_result"
    }
   ],
   "source": [
    "total_products"
   ]
  },
  {
   "cell_type": "code",
   "execution_count": 41,
   "metadata": {},
   "outputs": [
    {
     "data": {
      "text/plain": [
       "Product\n",
       "Amarilla     155315.0\n",
       "Carretera    146846.0\n",
       "Montana      154198.0\n",
       "Paseo        338239.5\n",
       "VTT          168783.0\n",
       "Velo         162424.5\n",
       "Name: Units Sold, dtype: float64"
      ]
     },
     "execution_count": 41,
     "metadata": {},
     "output_type": "execute_result"
    }
   ],
   "source": [
    "total_products['Units Sold']"
   ]
  },
  {
   "cell_type": "code",
   "execution_count": 42,
   "metadata": {},
   "outputs": [
    {
     "data": {
      "text/plain": [
       "<matplotlib.axes._subplots.AxesSubplot at 0x11658d280>"
      ]
     },
     "execution_count": 42,
     "metadata": {},
     "output_type": "execute_result"
    },
    {
     "data": {
      "image/png": "[encoded data removed]",
      "text/plain": [
       "<Figure size 432x288 with 1 Axes>"
      ]
     },
     "metadata": {
      "needs_background": "light"
     },
     "output_type": "display_data"
    }
   ],
   "source": [
    "total_products['Units Sold'].plot.bar()"
   ]
  },
  {
   "cell_type": "code",
   "execution_count": 43,
   "metadata": {},
   "outputs": [
    {
     "data": {
      "text/plain": [
       "<matplotlib.axes._subplots.AxesSubplot at 0x1167b8790>"
      ]
     },
     "execution_count": 43,
     "metadata": {},
     "output_type": "execute_result"
    },
    {
     "data": {
      "image/png": "[encoded data removed]",
      "text/plain": [
       "<Figure size 432x288 with 1 Axes>"
      ]
     },
     "metadata": {
      "needs_background": "light"
     },
     "output_type": "display_data"
    }
   ],
   "source": [
    "total_products.plot.bar()"
   ]
  },
  {
   "cell_type": "code",
   "execution_count": 50,
   "metadata": {},
   "outputs": [
    {
     "data": {
      "text/plain": [
       "<matplotlib.axes._subplots.AxesSubplot at 0x116b108e0>"
      ]
     },
     "execution_count": 50,
     "metadata": {},
     "output_type": "execute_result"
    },
    {
     "data": {
      "image/png": "[encoded data removed]",
      "text/plain": [
       "<Figure size 432x288 with 1 Axes>"
      ]
     },
     "metadata": {
      "needs_background": "light"
     },
     "output_type": "display_data"
    }
   ],
   "source": [
    "total_products['Sale Price'].plot.bar()"
   ]
  },
  {
   "cell_type": "code",
   "execution_count": 51,
   "metadata": {},
   "outputs": [
    {
     "data": {
      "text/plain": [
       "<matplotlib.axes._subplots.AxesSubplot at 0x116cb6880>"
      ]
     },
     "execution_count": 51,
     "metadata": {},
     "output_type": "execute_result"
    },
    {
     "data": {
      "image/png": "[encoded data removed]",
      "text/plain": [
       "<Figure size 432x288 with 1 Axes>"
      ]
     },
     "metadata": {},
     "output_type": "display_data"
    }
   ],
   "source": [
    "total_products['Sale Price'].plot.pie()"
   ]
  },
  {
   "cell_type": "code",
   "execution_count": null,
   "metadata": {},
   "outputs": [],
   "source": []
  }
 ],
 "metadata": {
  "kernelspec": {
   "display_name": "Python 3",
   "language": "python",
   "name": "python3"
  },
  "language_info": {
   "codemirror_mode": {
    "name": "ipython",
    "version": 3
   },
   "file_extension": ".py",
   "mimetype": "text/x-python",
   "name": "python",
   "nbconvert_exporter": "python",
   "pygments_lexer": "ipython3",
   "version": "3.8.3"
  }
 },
 "nbformat": 4,
 "nbformat_minor": 4
}
